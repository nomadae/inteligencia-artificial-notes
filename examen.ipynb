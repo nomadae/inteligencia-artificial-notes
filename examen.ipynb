{
 "cells": [
  {
   "cell_type": "markdown",
   "source": [
    "<div align=\"center\">\n",
    "    <img width=\"200\" height=\"200\" src=\"assets/UNAM.jpg\">\n",
    "    <img width=\"200\" height=\"200\" src=\"assets/ENES.jpg\">\n",
    "</div>\n",
    "<div align=\"center\">\n",
    "    <h2> Licenciatura en Tecnologías para la Información en Ciencias </h2>\n",
    "    <h3> Asignatura: Inteligencia Artificial </h3>\n",
    "    <h3> Examen Extraordinario </h3>\n",
    "    <h4> Gilberto Carlos Domínguez Aguilar (417097202)</h4>\n",
    "    <h4>  25 de julio de 2022 </h4>\n",
    "</div>"
   ],
   "metadata": {
    "collapsed": false,
    "pycharm": {
     "name": "#%% md\n"
    }
   }
  },
  {
   "cell_type": "markdown",
   "source": [
    "## Introduccion\n",
    "\n",
    "La **inteligencia artificial** es uno de los campos más recientes de la ciencia y la ingeniería. Abarca una gran cantidad de sub campos y tiene un sin fin de aplicaciones. En general, se trata de un conjunto de procedimientos matemáticos y computacionales que pretenden simular los procesos de pensamiento y razonamiento humanos con el objetivo de dar a las computadoras la capacidad de resolver problemas usando estas \"herramientas\", algunos ejemplos son:\n",
    "- Aprendizaje automático (aprender a partir de patrones en los datos)\n",
    "- Procesamiento de lenguaje natural (poder comunicarse en inglés o español)\n",
    "\n",
    "Los procedimientos aquí mostrados forman el fundamento para comprender e implementar sistemas más complejos y lograr resolver problemas del mundo real."
   ],
   "metadata": {
    "collapsed": false,
    "pycharm": {
     "name": "#%% md\n"
    }
   }
  },
  {
   "cell_type": "markdown",
   "source": [
    "## Problema\n",
    "\n",
    "Dados los siguientes temas:\n",
    "- Búsquedas y búsqueda A*\n",
    "- Estrategias ganadoras en Juegos y Minimax\n",
    "- Problemas de Satisfacción de Restricciones\n",
    "\n",
    "Elegir un problema de cada tema que sea ilustrativo y desarrollar un mini-proyecto en un notebook."
   ],
   "metadata": {
    "collapsed": false,
    "pycharm": {
     "name": "#%% md\n"
    }
   }
  },
  {
   "cell_type": "markdown",
   "source": [
    "EJECUCIÓN\n",
    "---\n",
    "---"
   ],
   "metadata": {
    "collapsed": false,
    "pycharm": {
     "name": "#%% md\n"
    }
   }
  },
  {
   "cell_type": "markdown",
   "source": [
    "### Parte 1: Búsquedas a ciegas y búsqueda A*\n",
    "\n",
    "Para que un agente inteligente resuelva un problema, es necesario seguir una *secuencia* de acciones que lleven a un estado objetivo. Este proceso se conoce como búsqueda. Un algoritmo de búsqueda toma un problema y regresa una solución en forma de una secuencia de pasos que llevaron a la solución. Este proceso es la antesala de una serie de acciones que puede ejecutar el agente."
   ],
   "metadata": {
    "collapsed": false,
    "pycharm": {
     "name": "#%% md\n"
    }
   }
  },
  {
   "cell_type": "markdown",
   "source": [
    "Un problema de este tipo tiene:\n",
    "- Un estado inicial\n",
    "- Acciones\n",
    "- Transiciones\n",
    "- Un estado objetivo\n",
    "\n",
    "El estado inicial, las  acciones y las transiciones forman el **espacio de estados** del problema. Se puede representar como un grafo dirigido donde los nodos son estados y las aristas son acciones."
   ],
   "metadata": {
    "collapsed": false,
    "pycharm": {
     "name": "#%% md\n"
    }
   }
  },
  {
   "cell_type": "markdown",
   "source": [
    "Para mostrar como funcionan, usamos un gráfico del mapa de Rumanía que muestra las conexiones terrestres entre algunas ciudades.\n"
   ],
   "metadata": {
    "collapsed": false,
    "pycharm": {
     "name": "#%% md\n"
    }
   }
  },
  {
   "cell_type": "markdown",
   "source": [
    "<div align=\"center\">\n",
    "    <img width=\"600\" src=\"assets/rum.jpg\">\n",
    "</div>"
   ],
   "metadata": {
    "collapsed": false,
    "pycharm": {
     "name": "#%% md\n"
    }
   }
  },
  {
   "cell_type": "markdown",
   "source": [
    "Su representación en Python es la siguiente (sin tomar en cuenta las distancias, solo las conexiones)"
   ],
   "metadata": {
    "collapsed": false,
    "pycharm": {
     "name": "#%% md\n"
    }
   }
  },
  {
   "cell_type": "code",
   "execution_count": 1,
   "outputs": [],
   "source": [
    "graph = {\n",
    "    'Arad': ['Zerind', 'Timisoara', 'Sibiu'],\n",
    "    'Zerind': ['Oradea', 'Arad'],\n",
    "    'Oradea': ['Sibiu', 'Zerind'],\n",
    "    'Timisoara': ['Lugoj', 'Arad'],\n",
    "    'Sibiu': ['Fagaras', 'Rimnicu Vilcea', 'Oradea', 'Arad'],\n",
    "    'Lugoj': ['Mehadia', 'Timisoara'],\n",
    "    'Rimnicu Vilcea': ['Pitesti', 'Craiova', 'Sibiu'],\n",
    "    'Mehadia': ['Drobeta', 'Lugoj'],\n",
    "    'Fagaras': ['Bucharest', 'Sibiu'],\n",
    "    'Pitesti': ['Bucharest', 'Craiova', 'Rimnicu Vilcea'],\n",
    "    'Bucharest': ['Urziceni', 'Giurgiu', 'Fagaras', 'Pitesti'],\n",
    "    'Craiova': ['Pitesti', 'Rimnicu Vilcea', 'Drobeta'],\n",
    "    'Drobeta': ['Mehadia', 'Craiova'],\n",
    "    'Giurgiu': ['Bucharest'],\n",
    "    'Urziceni': ['Bucharest', 'Vaslui', 'Hirsova'],\n",
    "    'Vaslui': ['Urziceni', 'Iasi'],\n",
    "    'Iasi': ['Vaslui', 'Neamt'],\n",
    "    'Hirsova': ['Urziceni', 'Eforie'],\n",
    "    'Eforie': ['Hirsova'],\n",
    "    'Neamt': ['Iasi']\n",
    "}\n"
   ],
   "metadata": {
    "collapsed": false,
    "pycharm": {
     "name": "#%%\n"
    }
   }
  },
  {
   "cell_type": "markdown",
   "source": [
    "#### Búsqueda por anchura o BFS (*breadth first search*)\n",
    "\n",
    "Se evalúan todos los estados en el espacio de búsqueda hasta distinguir el estado objetivo, no utiliza información adicional para determinar si se acerca o se aleja del objetivo. El orden en el que se exploran los nodos en el **árbol de búsqueda** es dando prioridad a los más superficiales."
   ],
   "metadata": {
    "collapsed": false,
    "pycharm": {
     "name": "#%% md\n"
    }
   }
  },
  {
   "cell_type": "markdown",
   "source": [
    "<div align=\"center\">\n",
    "<img width=\"600\"  src=\"assets/bfs.jpg\">\n",
    "</div>"
   ],
   "metadata": {
    "collapsed": false,
    "pycharm": {
     "name": "#%% md\n"
    }
   }
  },
  {
   "cell_type": "code",
   "execution_count": 2,
   "outputs": [],
   "source": [
    "from collections import deque\n",
    "\n",
    "\n",
    "def breadth_first_search(graph, start, end):\n",
    "    dist = {start: [start]}\n",
    "    q = deque([start])\n",
    "    while len(q):\n",
    "        at = q.popleft()\n",
    "        for next in graph[at]:\n",
    "            if next not in dist:\n",
    "                dist[next] = dist[at] + [next]\n",
    "                q.append(next)\n",
    "    return dist.get(end)"
   ],
   "metadata": {
    "collapsed": false,
    "pycharm": {
     "name": "#%%\n"
    }
   }
  },
  {
   "cell_type": "code",
   "execution_count": 3,
   "outputs": [
    {
     "data": {
      "text/plain": "['Arad', 'Sibiu', 'Fagaras', 'Bucharest']"
     },
     "execution_count": 3,
     "metadata": {},
     "output_type": "execute_result"
    }
   ],
   "source": [
    "breadth_first_search(graph, 'Arad', 'Bucharest')"
   ],
   "metadata": {
    "collapsed": false,
    "pycharm": {
     "name": "#%%\n"
    }
   }
  },
  {
   "cell_type": "markdown",
   "source": [
    "Su implementación se realiza mediante un algoritmo de recorrido de grafico de árbol, utilizando una estructura de datos de tipo FIFO (first in, first out) para la frontera de búsqueda.\n",
    "\n",
    "El algoritmo tradicional de búsqueda por anchura tiene una complejidad temporal de $O(d^m)$ donde $d$ es el factor de ramificación y $m$ es la profundidad del árbol. Sin embargo, esta implementación busca alcanzar una complejidad de $O(EV)$ donde $E$ es el número de nodos y $V$ el número de vértices ya que no busca estados que haya explorado antes, usando una estructura de datos especial que combina las propiedades de una lista enlazada y una tabla hash."
   ],
   "metadata": {
    "collapsed": false,
    "pycharm": {
     "name": "#%% md\n"
    }
   }
  },
  {
   "cell_type": "markdown",
   "source": [
    "La estructura de datos usada para representar la frontera de búsqueda es llamada `deque`. La forma en como se extraen y se insertan los nodos en esta estructura, determina si se trata de una búsqueda por anchura o por profundidad. En cada paso del ciclo, se extrae un nodo de la frontera y se \"exploran\" sus hijos, de tal manera que si ya se visitó un nodo, no se incluya en la frontera de nuevo. Cuando no hay más nodos que extraer de la frontera, el ciclo termina y regresa el camino del objetivo que puede ser interpretado de manera directa."
   ],
   "metadata": {
    "collapsed": false,
    "pycharm": {
     "name": "#%% md\n"
    }
   }
  },
  {
   "cell_type": "markdown",
   "source": [
    "#### Búsqueda por profundidad o DFS (*depth first search*)\n",
    "\n",
    "Este algoritmo es similar a la búsqueda por anchura en el sentido de que explora todo el espacio de búsqueda hasta encontrar el objetivo, sin embargo, la prioridad es buscar primero en aquellos nodos que se generaron de manera más reciente, lo que equivale a decir que se *baja* o se va a niveles más *profundos*."
   ],
   "metadata": {
    "collapsed": false,
    "pycharm": {
     "name": "#%% md\n"
    }
   }
  },
  {
   "cell_type": "markdown",
   "source": [
    "<div align=\"center\">\n",
    "<img width=\"600\"  src=\"assets/dfs.jpg\">\n",
    "</div>"
   ],
   "metadata": {
    "collapsed": false,
    "pycharm": {
     "name": "#%% md\n"
    }
   }
  },
  {
   "cell_type": "code",
   "execution_count": 4,
   "outputs": [],
   "source": [
    "def depth_first_search(graph, start, end):\n",
    "    dist = {start: [start]}\n",
    "    q = deque([start])\n",
    "    while len(q):\n",
    "        at = q.pop()\n",
    "        for next in graph[at]:\n",
    "            if next not in dist:\n",
    "                dist[next] = dist[at] + [next]\n",
    "                q.append(next)\n",
    "    return dist.get(end)"
   ],
   "metadata": {
    "collapsed": false,
    "pycharm": {
     "name": "#%%\n"
    }
   }
  },
  {
   "cell_type": "code",
   "execution_count": 5,
   "outputs": [
    {
     "data": {
      "text/plain": "['Arad', 'Sibiu', 'Rimnicu Vilcea', 'Pitesti', 'Bucharest']"
     },
     "execution_count": 5,
     "metadata": {},
     "output_type": "execute_result"
    }
   ],
   "source": [
    "depth_first_search(graph, 'Arad', 'Bucharest')"
   ],
   "metadata": {
    "collapsed": false,
    "pycharm": {
     "name": "#%%\n"
    }
   }
  },
  {
   "cell_type": "markdown",
   "source": [
    "El algoritmo es muy similar al anterior, a excepción de una cosa, el orden en el que se insertan los elementos dentro del $deque$. En el caso anterior usamos el método $popleft()$ y en este caso se usa $pop()$, que hacen la pequeña gran diferencia entre estos dos tipos de búsqueda. La búsqueda en profundad tiene otras variantes como su forma recursiva o con profundidad limitada."
   ],
   "metadata": {
    "collapsed": false,
    "pycharm": {
     "name": "#%% md\n"
    }
   }
  },
  {
   "cell_type": "markdown",
   "source": [
    " #### Búsqueda Informada A*\n",
    "\n",
    "Se dice que es una búsqueda informada porque, a diferencia de las anteriormente vistas, utiliza una **heurística** que es un tipo de *regla* que utiliza conocimiento específico del problema para resolverlo de manera más eficiente que en búsquedas a ciegas.\n",
    "\n",
    "Este algoritmo evalúa los nodos combinando $g(n)$, el costo de llegar al nodo $n$ desde el nodo inicio, y $h(n)$, el costo de llegar a un nodo objetivo a partir del nodo $n$.\n",
    "\n",
    "$$ f(n) = g(n) + h(n) $$\n",
    "\n",
    "Dadas ciertas condiciones, la búsqueda A* es **completa** y **óptima**, es decir, siempre encuentra una solución y dicha solución es la mejor de todas."
   ],
   "metadata": {
    "collapsed": false,
    "pycharm": {
     "name": "#%% md\n"
    }
   }
  },
  {
   "cell_type": "markdown",
   "source": [
    "Como ejemplo, mostramos una implementación que es capaz de resolver un juego de laberintos, representado como un arreglo bidimensional donde las paredes son $1$ y los caminos permitidos son 0.\n"
   ],
   "metadata": {
    "collapsed": false,
    "pycharm": {
     "name": "#%% md\n"
    }
   }
  },
  {
   "cell_type": "markdown",
   "source": [
    "Primeramente, definimos los nodos que conformarán nuestro grafo de búsqueda. Cada nodo tiene asociado un costo $g$, $h$  y $f$,  asi como un nodo padre y una posición en el tablero que se usa para comparar cualesquiera dos nodos."
   ],
   "metadata": {
    "collapsed": false,
    "pycharm": {
     "name": "#%% md\n"
    }
   }
  },
  {
   "cell_type": "code",
   "execution_count": 6,
   "outputs": [],
   "source": [
    "class Node():\n",
    "    \"\"\"A node class for A* Pathfinding\"\"\"\n",
    "\n",
    "    def __init__(self, parent=None, position=None):\n",
    "        self.parent = parent\n",
    "        self.position = position\n",
    "\n",
    "        self.g = 0\n",
    "        self.h = 0\n",
    "        self.f = 0\n",
    "\n",
    "    def __eq__(self, other):\n",
    "        return self.position == other.position\n"
   ],
   "metadata": {
    "collapsed": false,
    "pycharm": {
     "name": "#%%\n"
    }
   }
  },
  {
   "cell_type": "markdown",
   "source": [
    "Posteriormente, definimos el  algoritmo A* que buscará un camino en un laberinto dado desde un punto inicial hasta un punto final dado."
   ],
   "metadata": {
    "collapsed": false,
    "pycharm": {
     "name": "#%% md\n"
    }
   }
  },
  {
   "cell_type": "code",
   "execution_count": 7,
   "outputs": [],
   "source": [
    "\n",
    "def astar(maze, start, end):\n",
    "    \"\"\"Regresa una lista de tuplas que representan el camino desde la posición inicial hasta la final\"\"\"\n",
    "\n",
    "    # Se crean los estados inicial y final\n",
    "    start_node = Node(None, start)\n",
    "    start_node.g = start_node.h = start_node.f = 0\n",
    "    end_node = Node(None, end)\n",
    "    end_node.g = end_node.h = end_node.f = 0\n",
    "\n",
    "    # Se inicializan las listas de estados explorados y por explorar\n",
    "    open_list = []\n",
    "    closed_list = []\n",
    "\n",
    "    # Se agrega  el estado final a la lista de estados por explorar como condición inicial\n",
    "    open_list.append(start_node)\n",
    "\n",
    "    # Repite hasta encontrar el final\n",
    "    while len(open_list) > 0:\n",
    "\n",
    "        # Se obtiene el nodo actual\n",
    "        current_node = open_list[0]\n",
    "        current_index = 0\n",
    "        for index, item in enumerate(open_list):\n",
    "            if item.f < current_node.f:\n",
    "                current_node = item\n",
    "                current_index = index\n",
    "\n",
    "        # Se remueve  el nodo de la lista de nodos por explorar y se agrega a la lista de nodos explorados\n",
    "        open_list.pop(current_index)\n",
    "        closed_list.append(current_node)\n",
    "\n",
    "        # Se evalua si se está en el estado objetivo\n",
    "        if current_node == end_node:\n",
    "            path = []\n",
    "            current = current_node\n",
    "            while current is not None:\n",
    "                path.append(current.position)\n",
    "                current = current.parent\n",
    "            return path[::-1] # Regresa el camino como lista invertida\n",
    "\n",
    "        # Se generan los nodos hijo a partir de los movimientos permitidos\n",
    "        children = []\n",
    "        for new_position in [(0, -1), (0, 1), (-1, 0), (1, 0), (-1, -1), (-1, 1), (1, -1), (1, 1)]: # Todas las posiciones adyacentes\n",
    "\n",
    "            # Se obtiene la posición del nodo a generar\n",
    "            node_position = (current_node.position[0] + new_position[0], current_node.position[1] + new_position[1])\n",
    "\n",
    "            # Se valida si se encuentra dentro del tablero, de otra forma sale de esta iteración\n",
    "            if node_position[0] > (len(maze) - 1) or node_position[0] < 0 or node_position[1] > (len(maze[len(maze)-1]) -1) or node_position[1] < 0:\n",
    "                continue\n",
    "\n",
    "            # Se valida que no sea una pared\n",
    "            if maze[node_position[0]][node_position[1]] != 0:\n",
    "                continue\n",
    "\n",
    "            # Se genera el nuevo nodo\n",
    "            new_node = Node(current_node, node_position)\n",
    "\n",
    "            # Se agrega a la lista de hijos\n",
    "            children.append(new_node)\n",
    "\n",
    "        # Se itera sobre la lista de hijos\n",
    "        for child in children:\n",
    "\n",
    "            # Se valida si el hijo generado ha sido explorado anteriormente\n",
    "            for closed_child in closed_list:\n",
    "                if child == closed_child:\n",
    "                    continue\n",
    "\n",
    "            # Se asignan los nnuevos valores g, h y f\n",
    "            child.g = current_node.g + 1\n",
    "            child.h = ((child.position[0] - end_node.position[0]) ** 2) + ((child.position[1] - end_node.position[1]) ** 2)\n",
    "            child.f = child.g + child.h\n",
    "\n",
    "            # Se valida si el hijo generado ya existe en la lista de nodos a explorar\n",
    "            for open_node in open_list:\n",
    "                if child == open_node and child.g > open_node.g:\n",
    "                    continue\n",
    "\n",
    "            # Se agrega el hijo a la lista de nodos por explorar\n",
    "            open_list.append(child)\n"
   ],
   "metadata": {
    "collapsed": false,
    "pycharm": {
     "name": "#%%\n"
    }
   }
  },
  {
   "cell_type": "code",
   "execution_count": 14,
   "outputs": [
    {
     "name": "stdout",
     "output_type": "stream",
     "text": [
      "[(10, 0), (9, 1), (8, 2), (8, 3), (9, 4), (8, 5), (7, 6)]\n"
     ]
    }
   ],
   "source": [
    "maze = [[0, 0, 0, 0, 1, 0, 0, 0, 0, 0],\n",
    "        [0, 0, 0, 0, 1, 0, 0, 0, 0, 0],\n",
    "        [0, 0, 0, 0, 1, 0, 0, 0, 0, 0],\n",
    "        [0, 0, 0, 0, 1, 0, 0, 0, 0, 0],\n",
    "        [0, 0, 0, 0, 1, 0, 0, 0, 0, 0],\n",
    "        [0, 0, 0, 0, 0, 0, 0, 0, 0, 0],\n",
    "        [0, 0, 0, 0, 1, 0, 0, 0, 0, 0],\n",
    "        [0, 0, 0, 0, 1, 0, 0, 0, 0, 0],\n",
    "        [0, 0, 0, 0, 1, 0, 0, 0, 0, 0],\n",
    "        [0, 0, 0, 0, 0, 0, 0, 0, 0, 0]]\n",
    "\n",
    "start = (10, 0)\n",
    "end = (7, 6)\n",
    "\n",
    "path = astar(maze, start, end)\n",
    "print(path)"
   ],
   "metadata": {
    "collapsed": false,
    "pycharm": {
     "name": "#%%\n"
    }
   }
  },
  {
   "cell_type": "markdown",
   "source": [
    "### Parte 2: Juegos Minimax\n",
    "\n",
    "El propósito de  cualquier juego es ganar, cada decisión tomada por un jugador modifica el estado del juego y transiciona a otro. En un juego se tiene que tomar una decision independientemente de si es la decisión óptima. Los juegos donde solo hay dos jugadores se conocen como minmax o minimax, un jugador se llama max y el otro min. Un juego puede ser planteado como un tipo de problema de búsqueda donde hay:\n",
    "- Un estado inicial $S_{0}$ que define las condiciones iniciales del juego.\n",
    "- Jugadores\n",
    "- Acciones\n",
    "- Resultados (de un movimiento)\n",
    "- Prueba terminal (probar un estado objetivo)\n",
    "- Una función de utilidad o función objetivo que define un valor numérico para los estados terminales.\n",
    "\n",
    "El estado inicial, las acciones, los resultados definen el **árbol de juego**. Un árbol cuyos nodos son estados del juego y las aristas  representan movimientos.\n",
    "\n"
   ],
   "metadata": {
    "collapsed": false,
    "pycharm": {
     "name": "#%% md\n"
    }
   }
  },
  {
   "cell_type": "markdown",
   "source": [
    "Para un juego minimax como el Tic Tac Toe, el árbol  es relativamente pequeño (menor a 9! = 362 880). El árbol de búsqueda en este caso es un sub arbol del árbol de juego que sirve para determinar cuales serán los siguientes movimientos."
   ],
   "metadata": {
    "collapsed": false,
    "pycharm": {
     "name": "#%% md\n"
    }
   }
  },
  {
   "cell_type": "markdown",
   "source": [
    "<div align=\"center\">\n",
    "    <img width=600 src=\"assets/tictactoe.jpg\">\n",
    "</div>"
   ],
   "metadata": {
    "collapsed": false,
    "pycharm": {
     "name": "#%% md\n"
    }
   }
  },
  {
   "cell_type": "markdown",
   "source": [
    "En el archivo `minimax.py` se encuentra una implementación completa del juego Tic Tac Toe que es capaz de competir con un usuario humano utilizando el algoritmo minimax."
   ],
   "metadata": {
    "collapsed": false,
    "pycharm": {
     "name": "#%% md\n"
    }
   }
  },
  {
   "cell_type": "markdown",
   "source": [
    "Este algoritmo utiliza una recursión simple para computar los valores minimax de cada estado. La recursión llega hasta los nodos hoja para posteriormente computar dichos valores conforme sale de la recursión.\n",
    "\n",
    "Realiza una búsqueda en profundidad sobre el árbol de juego. Si la profundidad máxima es $m$ y existen $b$ movimientos permitidos, entonces la complejidad temporal del algoritmo minimax es de $O(b^{m})$. La complejidad espacial será de $O(bm)$ para un algoritmo que genera todas las acciónes en un solo paso o $O(m)$ para un algoritmo que genera las acciones una a la vez."
   ],
   "metadata": {
    "collapsed": false,
    "pycharm": {
     "name": "#%% md\n"
    }
   }
  },
  {
   "cell_type": "markdown",
   "source": [
    "### Parte 3: Satisfacción de restricciónes\n",
    "\n",
    "La idea general detrás de este tipo de problemas es eliminar porciones del espacio de búsqueda en donde las combinaciones valor/variable rompan las restricciones impuestas por el mismo problema. Este se dice resuelto cuando las variables solo puedan tomar valores permitidos."
   ],
   "metadata": {
    "collapsed": false,
    "pycharm": {
     "name": "#%% md\n"
    }
   }
  },
  {
   "cell_type": "markdown",
   "source": [
    "Un problema de satisfacción de restricciones tiene tres componentes:\n",
    "- $X$ es un conjunto de variables $ \\{ X_{1},...,X_{n} \\}$.\n",
    "- $D$ es un conjunto de dominios $ \\{ D_{1},...,D_{n} \\}$, uno por cada variable.\n",
    "- $C$ es un conjunto de restricciones que especifica combinaciones permitidas de valores."
   ],
   "metadata": {
    "collapsed": false,
    "pycharm": {
     "name": "#%% md\n"
    }
   }
  },
  {
   "cell_type": "markdown",
   "source": [
    "Los *estados* son definidos por **asignaciones** de valores a las variables $\\{X_{i} = v_{i}, X_{j} = v_{j},...\\}$. Una asignación que no viola ninguna restricción se dice que es **consistente**. Una **asignación completa** es cuando se les ha asignado un valor a todas las variables y una **solución** es una asignación completa y consistente."
   ],
   "metadata": {
    "collapsed": false,
    "pycharm": {
     "name": "#%% md\n"
    }
   }
  },
  {
   "cell_type": "markdown",
   "source": [],
   "metadata": {
    "collapsed": false,
    "pycharm": {
     "name": "#%% md\n"
    }
   }
  },
  {
   "cell_type": "code",
   "execution_count": 9,
   "outputs": [],
   "source": [
    "from abc import ABC, abstractmethod\n",
    "\n",
    "\n",
    "class Constraint(ABC):\n",
    "    def __init__(self, variables=[]):\n",
    "        # las variables sobre las que la restricción opera\n",
    "        self.variables = variables\n",
    "\n",
    "    # Must be overridden by subclasses\n",
    "    @abstractmethod\n",
    "    def satisfied(self, assignment={}):\n",
    "        ...\n"
   ],
   "metadata": {
    "collapsed": false,
    "pycharm": {
     "name": "#%%\n"
    }
   }
  },
  {
   "cell_type": "markdown",
   "source": [
    "La clase de arriba define una **restricción**, que es básicamente un tipo de operación que se aplica sobre variables. En el constructor de la clase recibimos una lista de estas variables. Además, definimos un método abstracto llamado `satisfied` con el que vamos a determinar si la restricción fue violada o no.\n",
    "\n",
    "La librería ``abc`` contiene herramientas de apoyo para la definición de clases abstractas, donde los métodos van a ser reescritos por alguna clase hijo, como lo es en este caso.\n",
    "\n",
    "Una de las ventajas que se pueden encontrar en los problemas de satisfacción de restricciones es que *generaliza* una forma de encontrar la solución, por lo que una base que se haya desarrollado para resolver un problema dado puede ser utilizada para resolver otros problemas similares."
   ],
   "metadata": {
    "collapsed": false,
    "pycharm": {
     "name": "#%% md\n"
    }
   }
  },
  {
   "cell_type": "code",
   "execution_count": 10,
   "outputs": [],
   "source": [
    "class CSP():\n",
    "    def __init__(self, variables=[], domains={}):\n",
    "        self.variables = variables\n",
    "        self.domains = domains\n",
    "        self.constraints = {}\n",
    "        for variable in self.variables:\n",
    "            self.constraints[variable] = []\n",
    "            if variable not in self.domains:\n",
    "                raise LookupError(\"Cada variable debe tener un dominio asignado.\")\n",
    "\n",
    "    def add_constraint(self, constraint):\n",
    "        for variable in constraint.variables:\n",
    "            if variable not in self.variables:\n",
    "                raise LookupError(\"La variable no está en el problema\")\n",
    "            else:\n",
    "                self.constraints[variable].append(constraint)\n",
    "\n",
    "    # checar si la asignación es consistente evaluando las restricciones con la variable\n",
    "    def consistent(self, variable, assignment = {}):\n",
    "        for constraint in self.constraints[variable]:\n",
    "            if not constraint.satisfied(assignment):\n",
    "                return False\n",
    "            return True\n",
    "\n",
    "    def backtracking_search(self, assignment = {}, ):\n",
    "        # la asignación se considera completa si cada variable es asignada\n",
    "        if len(assignment) == len(self.variables):\n",
    "            return assignment\n",
    "\n",
    "        # obtener las variables sin asignar\n",
    "        unassigned = [v for v in self.variables if v not in assignment]\n",
    "\n",
    "        # obtener todos los valores posibles para las variables sin asignar\n",
    "        first = unassigned[0]\n",
    "        for value in self.domains[first]:\n",
    "            local_assignment = assignment.copy()\n",
    "            local_assignment[first] = value\n",
    "            # si es consistente, entra a la recursión\n",
    "            if self.consistent(first, local_assignment):\n",
    "                result = self.backtracking_search(local_assignment)\n",
    "                # si no se encuentra un resultado, paramos el backtracking\n",
    "                if result is not None:\n",
    "                    return result\n",
    "        return None\n"
   ],
   "metadata": {
    "collapsed": false,
    "pycharm": {
     "name": "#%%\n"
    }
   }
  },
  {
   "cell_type": "markdown",
   "source": [
    "La clase definida arriba describe el marco general de trabajo para un problema de satisfacción de restricciones. En el constructor recibimos las variables y los dominios, además de inicializar la estructura que contendrá las restricciones específicas al problema. Dentro de la inicialización nos aseguramos de que cada variable tenga un dominio.\n",
    "\n",
    "El método `add_constraint` incorpora las restricciones específicas al problema y se asegura de que cada variable pertenezca al problema.\n",
    "El método `consistent` revisa si una asignación a una variable es consistente o no."
   ],
   "metadata": {
    "collapsed": false,
    "pycharm": {
     "name": "#%% md\n"
    }
   }
  },
  {
   "cell_type": "markdown",
   "source": [
    "Hasta ahora solo hemos descrito la **definición** del problema, sin embargo, el método `backtracking_search` es aquel que lo resuelve. Este algoritmo es muy similar a la versión recursiva de la **búsqueda por profundidad**. En este caso, la condición de paro es que la asignación sea completa. Mientras existan variables sin asignar, elige una e intenta asignarle todos los valores en su dominio hasta encontrar una solución. Si la asignación es inconsistente, la llamada recursiva falla y prueba con otro valor."
   ],
   "metadata": {
    "collapsed": false,
    "pycharm": {
     "name": "#%% md\n"
    }
   }
  },
  {
   "cell_type": "markdown",
   "source": [
    "Para mostrar un ejemplo, vamos a resolver el problema de **coloración de mapas**, en particular, un **mapa de Australia** con los límites territoriales."
   ],
   "metadata": {
    "collapsed": false,
    "pycharm": {
     "name": "#%% md\n"
    }
   }
  },
  {
   "cell_type": "markdown",
   "source": [
    "<div align=\"center\">\n",
    "    <img width=600 src=\"assets/australia.jpg\">\n",
    "</div>"
   ],
   "metadata": {
    "collapsed": false,
    "pycharm": {
     "name": "#%% md\n"
    }
   }
  },
  {
   "cell_type": "markdown",
   "source": [
    "Este problema restringe a los estados que comparten frontera de tener el mismo color. Entonces la definición es:\n",
    "- $X = \\{Western\\ Australia,\\ South\\ Australia,\\ Northern\\ Territory,\\ Queensland,\\ Victoria,\\ New\\ South\\ Wales,\\ Tasmania\\}$\n",
    "- $D = \\{red, green, blue\\} $ para todo $x$ en $X$\n",
    "\n",
    "Para las restricciones definimos lo siguiente:"
   ],
   "metadata": {
    "collapsed": false,
    "pycharm": {
     "name": "#%% md\n"
    }
   }
  },
  {
   "cell_type": "code",
   "execution_count": 11,
   "outputs": [],
   "source": [
    "class MapColoringConstraint(Constraint):\n",
    "    def __init__(self, place1=\"\", place2=\"\"):\n",
    "        super().__init__([place1, place2])\n",
    "        self.place1 = place1\n",
    "        self.place2 = place2\n",
    "\n",
    "    def satisfied(self, assignment={}):\n",
    "        # si aun no se han asignado valores, entonces no es posible que haya un conflicto en las restricciones\n",
    "        if self.place1 not in assignment or self.place2 not in assignment:\n",
    "            return True\n",
    "        # checar que el color asignado al lugar1 no sea el mismo que el lugar asignado al lugar2\n",
    "        return assignment[self.place1] != assignment[self.place2]\n"
   ],
   "metadata": {
    "collapsed": false,
    "pycharm": {
     "name": "#%%\n"
    }
   }
  },
  {
   "cell_type": "markdown",
   "source": [
    "La clase de arriba hereda de nuestra clase `Constraint` y define las restricciones específicas al problema de coloración de mapas. Se sobreescribe el método `satisfied` que vimos en la clase padre.\n",
    "Restringe que cualesquiera dos lugares que se pasan como argumento al constructor de `MapColoringConstraint` no pueden ser del mismo color (se regresa un booleano para señalar esto)."
   ],
   "metadata": {
    "collapsed": false,
    "pycharm": {
     "name": "#%% md\n"
    }
   }
  },
  {
   "cell_type": "markdown",
   "source": [
    "A continuación se inicializan las variables, los dominios y las restricciones, después se llama al método `backtracking_search` y se asigna a la variable `solution`, si el resultado es ``None``, entonces lo notifica, de otra forma, imprime un diccionario que contiene la solución."
   ],
   "metadata": {
    "collapsed": false,
    "pycharm": {
     "name": "#%% md\n"
    }
   }
  },
  {
   "cell_type": "code",
   "execution_count": 12,
   "outputs": [
    {
     "name": "stdout",
     "output_type": "stream",
     "text": [
      "{'Western Australia': 'red', 'Northern Territory': 'green', 'South Australia': 'green', 'Queensland': 'red', 'New South Wales': 'green', 'Victoria': 'red', 'Tasmania': 'green'}\n"
     ]
    }
   ],
   "source": [
    "variables = [\"Western Australia\", \"Northern Territory\", \"South Australia\", \"Queensland\",\n",
    "             \"New South Wales\", \"Victoria\", \"Tasmania\"]\n",
    "domains = {}\n",
    "for variable in variables:\n",
    "    domains[variable] = [\"red\", \"green\", \"blue\"]\n",
    "csp = CSP(variables, domains)\n",
    "csp.add_constraint(MapColoringConstraint(\"Western Australia\", \"Northern Territory\"))\n",
    "csp.add_constraint(MapColoringConstraint(\"Western Australia\", \"South Australia\"))\n",
    "csp.add_constraint(MapColoringConstraint(\"South Australia\", \"Northern Territory\"))\n",
    "csp.add_constraint(MapColoringConstraint(\"Queensland\", \"Northern Territory\"))\n",
    "csp.add_constraint(MapColoringConstraint(\"Queensland\", \"South Australia\"))\n",
    "csp.add_constraint(MapColoringConstraint(\"Queensland\", \"New South Wales\"))\n",
    "csp.add_constraint(MapColoringConstraint(\"New South Wales\", \"South Australia\"))\n",
    "csp.add_constraint(MapColoringConstraint(\"Victoria\", \"South Australia\"))\n",
    "csp.add_constraint(MapColoringConstraint(\"Victoria\", \"New South Wales\"))\n",
    "csp.add_constraint(MapColoringConstraint(\"Victoria\", \"Tasmania\"))\n",
    "solution = csp.backtracking_search()\n",
    "if solution is None:\n",
    "    print(\"No solution found\")\n",
    "else:\n",
    "    print(solution)"
   ],
   "metadata": {
    "collapsed": false,
    "pycharm": {
     "name": "#%%\n"
    }
   }
  },
  {
   "cell_type": "markdown",
   "source": [
    "Estas clases pueden ser reutilizadas para resolver otros problemas  como el de las 7 reinas, problemas de criptoaritmetica, entre otros, mientras sea posible representarlos de esta manera."
   ],
   "metadata": {
    "collapsed": false,
    "pycharm": {
     "name": "#%% md\n"
    }
   }
  },
  {
   "cell_type": "markdown",
   "source": [
    "## Referencias\n",
    "\n",
    " Luis Miguel García Velázquez. (2021). Inteligencia Artificial. Consultado el 25 de julio de 2022, de LTIC, ENES Morelia, UNAM Sitio web: https://classroom.google.com/c/Mzk4NjAyMTk2OTAy\n",
    "Stuart Russell, Peter Norvig. (2010). Artificial Intelligence, A modern aproach. New Jersey: Pearson."
   ],
   "metadata": {
    "collapsed": false,
    "pycharm": {
     "name": "#%% md\n"
    }
   }
  }
 ],
 "metadata": {
  "kernelspec": {
   "display_name": "Python 3",
   "language": "python",
   "name": "python3"
  },
  "language_info": {
   "codemirror_mode": {
    "name": "ipython",
    "version": 2
   },
   "file_extension": ".py",
   "mimetype": "text/x-python",
   "name": "python",
   "nbconvert_exporter": "python",
   "pygments_lexer": "ipython2",
   "version": "2.7.6"
  }
 },
 "nbformat": 4,
 "nbformat_minor": 0
}